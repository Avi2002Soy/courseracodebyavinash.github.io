{
 "cells": [
  {
   "cell_type": "code",
   "execution_count": 1,
   "id": "5e76c534",
   "metadata": {
    "execution": {
     "iopub.execute_input": "2022-05-21T10:16:08.976717Z",
     "iopub.status.busy": "2022-05-21T10:16:08.976358Z",
     "iopub.status.idle": "2022-05-21T10:16:10.056115Z",
     "shell.execute_reply": "2022-05-21T10:16:10.055071Z"
    },
    "papermill": {
     "duration": 1.108352,
     "end_time": "2022-05-21T10:16:10.058982",
     "exception": false,
     "start_time": "2022-05-21T10:16:08.950630",
     "status": "completed"
    },
    "tags": []
   },
   "outputs": [],
   "source": [
    "import numpy as np\n",
    "import matplotlib.pyplot as plt\n",
    "import pandas as pd\n",
    "import seaborn as sns"
   ]
  },
  {
   "cell_type": "code",
   "execution_count": 2,
   "id": "9318b145",
   "metadata": {
    "execution": {
     "iopub.execute_input": "2022-05-21T10:16:10.108572Z",
     "iopub.status.busy": "2022-05-21T10:16:10.107741Z",
     "iopub.status.idle": "2022-05-21T10:16:10.137159Z",
     "shell.execute_reply": "2022-05-21T10:16:10.136056Z"
    },
    "papermill": {
     "duration": 0.056849,
     "end_time": "2022-05-21T10:16:10.139821",
     "exception": false,
     "start_time": "2022-05-21T10:16:10.082972",
     "status": "completed"
    },
    "tags": []
   },
   "outputs": [
    {
     "name": "stdout",
     "output_type": "stream",
     "text": [
      "Python version: 3.7.12 | packaged by conda-forge | (default, Oct 26 2021, 06:08:53) \n",
      "[GCC 9.4.0]\n",
      "NumPy version: 1.21.6\n",
      "pandas version: 1.3.5\n",
      "matplotlib version: 3.5.2\n",
      "/kaggle/input/imdb-datasets/imdb_top_1000.csv\n",
      "/kaggle/input/imdb-dataset-of-top-1000-movies-and-tv-shows/imdb_top_1000.csv\n"
     ]
    }
   ],
   "source": [
    "import sys #access to system parameters https://docs.python.org/3/library/sys.html\n",
    "print(\"Python version: {}\". format(sys.version))\n",
    "import numpy as np # linear algebra\n",
    "print(\"NumPy version: {}\". format(np.__version__))\n",
    "import pandas as pd # data processing, CSV file I/O (e.g. pd.read_csv)\n",
    "print(\"pandas version: {}\". format(pd.__version__))\n",
    "import matplotlib # collection of functions for scientific and publication-ready visualization\n",
    "print(\"matplotlib version: {}\". format(matplotlib.__version__))\n",
    "import matplotlib.pyplot as plt\n",
    "%matplotlib inline\n",
    "import seaborn as sns\n",
    "import warnings # ignore warnings\n",
    "warnings.filterwarnings('ignore')\n",
    "import os\n",
    "for dirname, _, filenames in os.walk('/kaggle/input'):\n",
    "    for filename in filenames:\n",
    "        print(os.path.join(dirname, filename))"
   ]
  },
  {
   "cell_type": "code",
   "execution_count": 3,
   "id": "6b63bcbd",
   "metadata": {
    "execution": {
     "iopub.execute_input": "2022-05-21T10:16:10.190772Z",
     "iopub.status.busy": "2022-05-21T10:16:10.190319Z",
     "iopub.status.idle": "2022-05-21T10:16:10.235534Z",
     "shell.execute_reply": "2022-05-21T10:16:10.234508Z"
    },
    "papermill": {
     "duration": 0.07317,
     "end_time": "2022-05-21T10:16:10.237989",
     "exception": false,
     "start_time": "2022-05-21T10:16:10.164819",
     "status": "completed"
    },
    "tags": []
   },
   "outputs": [
    {
     "data": {
      "text/plain": [
       "(1000, 16)"
      ]
     },
     "execution_count": 3,
     "metadata": {},
     "output_type": "execute_result"
    }
   ],
   "source": [
    "path = '../input/imdb-dataset-of-top-1000-movies-and-tv-shows/imdb_top_1000.csv'\n",
    "df = pd.read_csv(path, delimiter=',')\n",
    "df.shape"
   ]
  },
  {
   "cell_type": "code",
   "execution_count": 4,
   "id": "d7abfa12",
   "metadata": {
    "execution": {
     "iopub.execute_input": "2022-05-21T10:16:10.289394Z",
     "iopub.status.busy": "2022-05-21T10:16:10.288793Z",
     "iopub.status.idle": "2022-05-21T10:16:10.318680Z",
     "shell.execute_reply": "2022-05-21T10:16:10.317656Z"
    },
    "papermill": {
     "duration": 0.060659,
     "end_time": "2022-05-21T10:16:10.323654",
     "exception": false,
     "start_time": "2022-05-21T10:16:10.262995",
     "status": "completed"
    },
    "tags": []
   },
   "outputs": [
    {
     "data": {
      "text/html": [
       "<div>\n",
       "<style scoped>\n",
       "    .dataframe tbody tr th:only-of-type {\n",
       "        vertical-align: middle;\n",
       "    }\n",
       "\n",
       "    .dataframe tbody tr th {\n",
       "        vertical-align: top;\n",
       "    }\n",
       "\n",
       "    .dataframe thead th {\n",
       "        text-align: right;\n",
       "    }\n",
       "</style>\n",
       "<table border=\"1\" class=\"dataframe\">\n",
       "  <thead>\n",
       "    <tr style=\"text-align: right;\">\n",
       "      <th></th>\n",
       "      <th>Poster_Link</th>\n",
       "      <th>Series_Title</th>\n",
       "      <th>Released_Year</th>\n",
       "      <th>Certificate</th>\n",
       "      <th>Runtime</th>\n",
       "      <th>Genre</th>\n",
       "      <th>IMDB_Rating</th>\n",
       "      <th>Overview</th>\n",
       "      <th>Meta_score</th>\n",
       "      <th>Director</th>\n",
       "      <th>Star1</th>\n",
       "      <th>Star2</th>\n",
       "      <th>Star3</th>\n",
       "      <th>Star4</th>\n",
       "      <th>No_of_Votes</th>\n",
       "      <th>Gross</th>\n",
       "    </tr>\n",
       "  </thead>\n",
       "  <tbody>\n",
       "    <tr>\n",
       "      <th>0</th>\n",
       "      <td>https://m.media-amazon.com/images/M/MV5BMDFkYT...</td>\n",
       "      <td>The Shawshank Redemption</td>\n",
       "      <td>1994</td>\n",
       "      <td>A</td>\n",
       "      <td>142 min</td>\n",
       "      <td>Drama</td>\n",
       "      <td>9.3</td>\n",
       "      <td>Two imprisoned men bond over a number of years...</td>\n",
       "      <td>80.0</td>\n",
       "      <td>Frank Darabont</td>\n",
       "      <td>Tim Robbins</td>\n",
       "      <td>Morgan Freeman</td>\n",
       "      <td>Bob Gunton</td>\n",
       "      <td>William Sadler</td>\n",
       "      <td>2343110</td>\n",
       "      <td>28,341,469</td>\n",
       "    </tr>\n",
       "    <tr>\n",
       "      <th>1</th>\n",
       "      <td>https://m.media-amazon.com/images/M/MV5BM2MyNj...</td>\n",
       "      <td>The Godfather</td>\n",
       "      <td>1972</td>\n",
       "      <td>A</td>\n",
       "      <td>175 min</td>\n",
       "      <td>Crime, Drama</td>\n",
       "      <td>9.2</td>\n",
       "      <td>An organized crime dynasty's aging patriarch t...</td>\n",
       "      <td>100.0</td>\n",
       "      <td>Francis Ford Coppola</td>\n",
       "      <td>Marlon Brando</td>\n",
       "      <td>Al Pacino</td>\n",
       "      <td>James Caan</td>\n",
       "      <td>Diane Keaton</td>\n",
       "      <td>1620367</td>\n",
       "      <td>134,966,411</td>\n",
       "    </tr>\n",
       "    <tr>\n",
       "      <th>2</th>\n",
       "      <td>https://m.media-amazon.com/images/M/MV5BMTMxNT...</td>\n",
       "      <td>The Dark Knight</td>\n",
       "      <td>2008</td>\n",
       "      <td>UA</td>\n",
       "      <td>152 min</td>\n",
       "      <td>Action, Crime, Drama</td>\n",
       "      <td>9.0</td>\n",
       "      <td>When the menace known as the Joker wreaks havo...</td>\n",
       "      <td>84.0</td>\n",
       "      <td>Christopher Nolan</td>\n",
       "      <td>Christian Bale</td>\n",
       "      <td>Heath Ledger</td>\n",
       "      <td>Aaron Eckhart</td>\n",
       "      <td>Michael Caine</td>\n",
       "      <td>2303232</td>\n",
       "      <td>534,858,444</td>\n",
       "    </tr>\n",
       "    <tr>\n",
       "      <th>3</th>\n",
       "      <td>https://m.media-amazon.com/images/M/MV5BMWMwMG...</td>\n",
       "      <td>The Godfather: Part II</td>\n",
       "      <td>1974</td>\n",
       "      <td>A</td>\n",
       "      <td>202 min</td>\n",
       "      <td>Crime, Drama</td>\n",
       "      <td>9.0</td>\n",
       "      <td>The early life and career of Vito Corleone in ...</td>\n",
       "      <td>90.0</td>\n",
       "      <td>Francis Ford Coppola</td>\n",
       "      <td>Al Pacino</td>\n",
       "      <td>Robert De Niro</td>\n",
       "      <td>Robert Duvall</td>\n",
       "      <td>Diane Keaton</td>\n",
       "      <td>1129952</td>\n",
       "      <td>57,300,000</td>\n",
       "    </tr>\n",
       "    <tr>\n",
       "      <th>4</th>\n",
       "      <td>https://m.media-amazon.com/images/M/MV5BMWU4N2...</td>\n",
       "      <td>12 Angry Men</td>\n",
       "      <td>1957</td>\n",
       "      <td>U</td>\n",
       "      <td>96 min</td>\n",
       "      <td>Crime, Drama</td>\n",
       "      <td>9.0</td>\n",
       "      <td>A jury holdout attempts to prevent a miscarria...</td>\n",
       "      <td>96.0</td>\n",
       "      <td>Sidney Lumet</td>\n",
       "      <td>Henry Fonda</td>\n",
       "      <td>Lee J. Cobb</td>\n",
       "      <td>Martin Balsam</td>\n",
       "      <td>John Fiedler</td>\n",
       "      <td>689845</td>\n",
       "      <td>4,360,000</td>\n",
       "    </tr>\n",
       "  </tbody>\n",
       "</table>\n",
       "</div>"
      ],
      "text/plain": [
       "                                         Poster_Link  \\\n",
       "0  https://m.media-amazon.com/images/M/MV5BMDFkYT...   \n",
       "1  https://m.media-amazon.com/images/M/MV5BM2MyNj...   \n",
       "2  https://m.media-amazon.com/images/M/MV5BMTMxNT...   \n",
       "3  https://m.media-amazon.com/images/M/MV5BMWMwMG...   \n",
       "4  https://m.media-amazon.com/images/M/MV5BMWU4N2...   \n",
       "\n",
       "               Series_Title Released_Year Certificate  Runtime  \\\n",
       "0  The Shawshank Redemption          1994           A  142 min   \n",
       "1             The Godfather          1972           A  175 min   \n",
       "2           The Dark Knight          2008          UA  152 min   \n",
       "3    The Godfather: Part II          1974           A  202 min   \n",
       "4              12 Angry Men          1957           U   96 min   \n",
       "\n",
       "                  Genre  IMDB_Rating  \\\n",
       "0                 Drama          9.3   \n",
       "1          Crime, Drama          9.2   \n",
       "2  Action, Crime, Drama          9.0   \n",
       "3          Crime, Drama          9.0   \n",
       "4          Crime, Drama          9.0   \n",
       "\n",
       "                                            Overview  Meta_score  \\\n",
       "0  Two imprisoned men bond over a number of years...        80.0   \n",
       "1  An organized crime dynasty's aging patriarch t...       100.0   \n",
       "2  When the menace known as the Joker wreaks havo...        84.0   \n",
       "3  The early life and career of Vito Corleone in ...        90.0   \n",
       "4  A jury holdout attempts to prevent a miscarria...        96.0   \n",
       "\n",
       "               Director           Star1           Star2          Star3  \\\n",
       "0        Frank Darabont     Tim Robbins  Morgan Freeman     Bob Gunton   \n",
       "1  Francis Ford Coppola   Marlon Brando       Al Pacino     James Caan   \n",
       "2     Christopher Nolan  Christian Bale    Heath Ledger  Aaron Eckhart   \n",
       "3  Francis Ford Coppola       Al Pacino  Robert De Niro  Robert Duvall   \n",
       "4          Sidney Lumet     Henry Fonda     Lee J. Cobb  Martin Balsam   \n",
       "\n",
       "            Star4  No_of_Votes        Gross  \n",
       "0  William Sadler      2343110   28,341,469  \n",
       "1    Diane Keaton      1620367  134,966,411  \n",
       "2   Michael Caine      2303232  534,858,444  \n",
       "3    Diane Keaton      1129952   57,300,000  \n",
       "4    John Fiedler       689845    4,360,000  "
      ]
     },
     "execution_count": 4,
     "metadata": {},
     "output_type": "execute_result"
    }
   ],
   "source": [
    "df.head()"
   ]
  },
  {
   "cell_type": "code",
   "execution_count": 5,
   "id": "ee43c5a4",
   "metadata": {
    "execution": {
     "iopub.execute_input": "2022-05-21T10:16:10.377308Z",
     "iopub.status.busy": "2022-05-21T10:16:10.376983Z",
     "iopub.status.idle": "2022-05-21T10:16:10.388155Z",
     "shell.execute_reply": "2022-05-21T10:16:10.387142Z"
    },
    "papermill": {
     "duration": 0.040885,
     "end_time": "2022-05-21T10:16:10.390807",
     "exception": false,
     "start_time": "2022-05-21T10:16:10.349922",
     "status": "completed"
    },
    "tags": []
   },
   "outputs": [
    {
     "data": {
      "text/plain": [
       "899"
      ]
     },
     "execution_count": 5,
     "metadata": {},
     "output_type": "execute_result"
    }
   ],
   "source": [
    "df['Certificate'].count()"
   ]
  },
  {
   "cell_type": "code",
   "execution_count": 6,
   "id": "2dce2db8",
   "metadata": {
    "execution": {
     "iopub.execute_input": "2022-05-21T10:16:10.444838Z",
     "iopub.status.busy": "2022-05-21T10:16:10.444022Z",
     "iopub.status.idle": "2022-05-21T10:16:10.470046Z",
     "shell.execute_reply": "2022-05-21T10:16:10.469043Z"
    },
    "papermill": {
     "duration": 0.055311,
     "end_time": "2022-05-21T10:16:10.472368",
     "exception": false,
     "start_time": "2022-05-21T10:16:10.417057",
     "status": "completed"
    },
    "tags": []
   },
   "outputs": [
    {
     "name": "stdout",
     "output_type": "stream",
     "text": [
      "<class 'pandas.core.frame.DataFrame'>\n",
      "RangeIndex: 1000 entries, 0 to 999\n",
      "Data columns (total 16 columns):\n",
      " #   Column         Non-Null Count  Dtype  \n",
      "---  ------         --------------  -----  \n",
      " 0   Poster_Link    1000 non-null   object \n",
      " 1   Series_Title   1000 non-null   object \n",
      " 2   Released_Year  1000 non-null   object \n",
      " 3   Certificate    899 non-null    object \n",
      " 4   Runtime        1000 non-null   object \n",
      " 5   Genre          1000 non-null   object \n",
      " 6   IMDB_Rating    1000 non-null   float64\n",
      " 7   Overview       1000 non-null   object \n",
      " 8   Meta_score     843 non-null    float64\n",
      " 9   Director       1000 non-null   object \n",
      " 10  Star1          1000 non-null   object \n",
      " 11  Star2          1000 non-null   object \n",
      " 12  Star3          1000 non-null   object \n",
      " 13  Star4          1000 non-null   object \n",
      " 14  No_of_Votes    1000 non-null   int64  \n",
      " 15  Gross          831 non-null    object \n",
      "dtypes: float64(2), int64(1), object(13)\n",
      "memory usage: 125.1+ KB\n"
     ]
    }
   ],
   "source": [
    "df.info()"
   ]
  },
  {
   "cell_type": "code",
   "execution_count": 7,
   "id": "94f71648",
   "metadata": {
    "execution": {
     "iopub.execute_input": "2022-05-21T10:16:10.526276Z",
     "iopub.status.busy": "2022-05-21T10:16:10.525933Z",
     "iopub.status.idle": "2022-05-21T10:16:10.538140Z",
     "shell.execute_reply": "2022-05-21T10:16:10.537138Z"
    },
    "papermill": {
     "duration": 0.041759,
     "end_time": "2022-05-21T10:16:10.540413",
     "exception": false,
     "start_time": "2022-05-21T10:16:10.498654",
     "status": "completed"
    },
    "tags": []
   },
   "outputs": [
    {
     "data": {
      "text/plain": [
       "Poster_Link        0\n",
       "Series_Title       0\n",
       "Released_Year      0\n",
       "Certificate      101\n",
       "Runtime            0\n",
       "Genre              0\n",
       "IMDB_Rating        0\n",
       "Overview           0\n",
       "Meta_score       157\n",
       "Director           0\n",
       "Star1              0\n",
       "Star2              0\n",
       "Star3              0\n",
       "Star4              0\n",
       "No_of_Votes        0\n",
       "Gross            169\n",
       "dtype: int64"
      ]
     },
     "execution_count": 7,
     "metadata": {},
     "output_type": "execute_result"
    }
   ],
   "source": [
    "df.isnull().sum()"
   ]
  },
  {
   "cell_type": "code",
   "execution_count": 8,
   "id": "9d7cf05d",
   "metadata": {
    "execution": {
     "iopub.execute_input": "2022-05-21T10:16:10.594979Z",
     "iopub.status.busy": "2022-05-21T10:16:10.594423Z",
     "iopub.status.idle": "2022-05-21T10:16:10.618211Z",
     "shell.execute_reply": "2022-05-21T10:16:10.617208Z"
    },
    "papermill": {
     "duration": 0.054457,
     "end_time": "2022-05-21T10:16:10.621051",
     "exception": false,
     "start_time": "2022-05-21T10:16:10.566594",
     "status": "completed"
    },
    "tags": []
   },
   "outputs": [
    {
     "name": "stdout",
     "output_type": "stream",
     "text": [
      "                                           Poster_Link  \\\n",
      "0    https://m.media-amazon.com/images/M/MV5BMDFkYT...   \n",
      "1    https://m.media-amazon.com/images/M/MV5BM2MyNj...   \n",
      "2    https://m.media-amazon.com/images/M/MV5BMTMxNT...   \n",
      "3    https://m.media-amazon.com/images/M/MV5BMWMwMG...   \n",
      "4    https://m.media-amazon.com/images/M/MV5BMWU4N2...   \n",
      "..                                                 ...   \n",
      "995  https://m.media-amazon.com/images/M/MV5BNGEwMT...   \n",
      "996  https://m.media-amazon.com/images/M/MV5BODk3Yj...   \n",
      "997  https://m.media-amazon.com/images/M/MV5BM2U3Yz...   \n",
      "998  https://m.media-amazon.com/images/M/MV5BZTBmMj...   \n",
      "999  https://m.media-amazon.com/images/M/MV5BMTY5OD...   \n",
      "\n",
      "                 Series_Title Released_Year Certificate  Runtime  \\\n",
      "0    The Shawshank Redemption          1994           A  142 min   \n",
      "1               The Godfather          1972           A  175 min   \n",
      "2             The Dark Knight          2008          UA  152 min   \n",
      "3      The Godfather: Part II          1974           A  202 min   \n",
      "4                12 Angry Men          1957           U   96 min   \n",
      "..                        ...           ...         ...      ...   \n",
      "995    Breakfast at Tiffany's          1961           A  115 min   \n",
      "996                     Giant          1956           G  201 min   \n",
      "997     From Here to Eternity          1953      Passed  118 min   \n",
      "998                  Lifeboat          1944         NaN   97 min   \n",
      "999              The 39 Steps          1935         NaN   86 min   \n",
      "\n",
      "                        Genre  IMDB_Rating  \\\n",
      "0                       Drama          9.3   \n",
      "1                Crime, Drama          9.2   \n",
      "2        Action, Crime, Drama          9.0   \n",
      "3                Crime, Drama          9.0   \n",
      "4                Crime, Drama          9.0   \n",
      "..                        ...          ...   \n",
      "995    Comedy, Drama, Romance          7.6   \n",
      "996            Drama, Western          7.6   \n",
      "997       Drama, Romance, War          7.6   \n",
      "998                Drama, War          7.6   \n",
      "999  Crime, Mystery, Thriller          7.6   \n",
      "\n",
      "                                              Overview  Meta_score  \\\n",
      "0    Two imprisoned men bond over a number of years...        80.0   \n",
      "1    An organized crime dynasty's aging patriarch t...       100.0   \n",
      "2    When the menace known as the Joker wreaks havo...        84.0   \n",
      "3    The early life and career of Vito Corleone in ...        90.0   \n",
      "4    A jury holdout attempts to prevent a miscarria...        96.0   \n",
      "..                                                 ...         ...   \n",
      "995  A young New York socialite becomes interested ...        76.0   \n",
      "996  Sprawling epic covering the life of a Texas ca...        84.0   \n",
      "997  In Hawaii in 1941, a private is cruelly punish...        85.0   \n",
      "998  Several survivors of a torpedoed merchant ship...        78.0   \n",
      "999  A man in London tries to help a counter-espion...        93.0   \n",
      "\n",
      "                 Director              Star1              Star2  \\\n",
      "0          Frank Darabont        Tim Robbins     Morgan Freeman   \n",
      "1    Francis Ford Coppola      Marlon Brando          Al Pacino   \n",
      "2       Christopher Nolan     Christian Bale       Heath Ledger   \n",
      "3    Francis Ford Coppola          Al Pacino     Robert De Niro   \n",
      "4            Sidney Lumet        Henry Fonda        Lee J. Cobb   \n",
      "..                    ...                ...                ...   \n",
      "995         Blake Edwards     Audrey Hepburn     George Peppard   \n",
      "996        George Stevens   Elizabeth Taylor        Rock Hudson   \n",
      "997        Fred Zinnemann     Burt Lancaster   Montgomery Clift   \n",
      "998      Alfred Hitchcock  Tallulah Bankhead        John Hodiak   \n",
      "999      Alfred Hitchcock       Robert Donat  Madeleine Carroll   \n",
      "\n",
      "              Star3           Star4  No_of_Votes        Gross  \\\n",
      "0        Bob Gunton  William Sadler      2343110   28,341,469   \n",
      "1        James Caan    Diane Keaton      1620367  134,966,411   \n",
      "2     Aaron Eckhart   Michael Caine      2303232  534,858,444   \n",
      "3     Robert Duvall    Diane Keaton      1129952   57,300,000   \n",
      "4     Martin Balsam    John Fiedler       689845    4,360,000   \n",
      "..              ...             ...          ...          ...   \n",
      "995   Patricia Neal     Buddy Ebsen       166544          NaN   \n",
      "996      James Dean   Carroll Baker        34075          NaN   \n",
      "997    Deborah Kerr      Donna Reed        43374   30,500,000   \n",
      "998   Walter Slezak  William Bendix        26471          NaN   \n",
      "999  Lucie Mannheim  Godfrey Tearle        51853          NaN   \n",
      "\n",
      "                                             Star_Cast  \n",
      "0    Tim Robbins, Morgan Freeman, Bob Gunton, Willi...  \n",
      "1    Marlon Brando, Al Pacino, James Caan, Diane Ke...  \n",
      "2    Christian Bale, Heath Ledger, Aaron Eckhart, M...  \n",
      "3    Al Pacino, Robert De Niro, Robert Duvall, Dian...  \n",
      "4    Henry Fonda, Lee J. Cobb, Martin Balsam, John ...  \n",
      "..                                                 ...  \n",
      "995  Audrey Hepburn, George Peppard, Patricia Neal,...  \n",
      "996  Elizabeth Taylor, Rock Hudson, James Dean, Car...  \n",
      "997  Burt Lancaster, Montgomery Clift, Deborah Kerr...  \n",
      "998  Tallulah Bankhead, John Hodiak, Walter Slezak,...  \n",
      "999  Robert Donat, Madeleine Carroll, Lucie Mannhei...  \n",
      "\n",
      "[1000 rows x 17 columns]\n"
     ]
    }
   ],
   "source": [
    "df2=df.assign(Star_Cast=lambda x: x.Star1 + \", \" + x.Star2 + \", \" + x.Star3 + \", \" + x.Star4)\n",
    "print(df2)"
   ]
  },
  {
   "cell_type": "code",
   "execution_count": 9,
   "id": "7c9f6555",
   "metadata": {
    "execution": {
     "iopub.execute_input": "2022-05-21T10:16:10.679659Z",
     "iopub.status.busy": "2022-05-21T10:16:10.679081Z",
     "iopub.status.idle": "2022-05-21T10:16:10.685209Z",
     "shell.execute_reply": "2022-05-21T10:16:10.684546Z"
    },
    "papermill": {
     "duration": 0.036831,
     "end_time": "2022-05-21T10:16:10.687573",
     "exception": false,
     "start_time": "2022-05-21T10:16:10.650742",
     "status": "completed"
    },
    "tags": []
   },
   "outputs": [],
   "source": [
    "df2=df2.rename(columns={'Series_Title':'Movie_Name'})"
   ]
  },
  {
   "cell_type": "code",
   "execution_count": 10,
   "id": "32df8417",
   "metadata": {
    "execution": {
     "iopub.execute_input": "2022-05-21T10:16:10.742915Z",
     "iopub.status.busy": "2022-05-21T10:16:10.742391Z",
     "iopub.status.idle": "2022-05-21T10:16:10.764800Z",
     "shell.execute_reply": "2022-05-21T10:16:10.763788Z"
    },
    "papermill": {
     "duration": 0.052853,
     "end_time": "2022-05-21T10:16:10.767079",
     "exception": false,
     "start_time": "2022-05-21T10:16:10.714226",
     "status": "completed"
    },
    "tags": []
   },
   "outputs": [
    {
     "data": {
      "text/html": [
       "<div>\n",
       "<style scoped>\n",
       "    .dataframe tbody tr th:only-of-type {\n",
       "        vertical-align: middle;\n",
       "    }\n",
       "\n",
       "    .dataframe tbody tr th {\n",
       "        vertical-align: top;\n",
       "    }\n",
       "\n",
       "    .dataframe thead th {\n",
       "        text-align: right;\n",
       "    }\n",
       "</style>\n",
       "<table border=\"1\" class=\"dataframe\">\n",
       "  <thead>\n",
       "    <tr style=\"text-align: right;\">\n",
       "      <th></th>\n",
       "      <th>Poster_Link</th>\n",
       "      <th>Movie_Name</th>\n",
       "      <th>Released_Year</th>\n",
       "      <th>Certificate</th>\n",
       "      <th>Runtime</th>\n",
       "      <th>Genre</th>\n",
       "      <th>IMDB_Rating</th>\n",
       "      <th>Overview</th>\n",
       "      <th>Meta_score</th>\n",
       "      <th>Director</th>\n",
       "      <th>Star1</th>\n",
       "      <th>Star2</th>\n",
       "      <th>Star3</th>\n",
       "      <th>Star4</th>\n",
       "      <th>No_of_Votes</th>\n",
       "      <th>Gross</th>\n",
       "      <th>Star_Cast</th>\n",
       "    </tr>\n",
       "  </thead>\n",
       "  <tbody>\n",
       "    <tr>\n",
       "      <th>0</th>\n",
       "      <td>https://m.media-amazon.com/images/M/MV5BMDFkYT...</td>\n",
       "      <td>The Shawshank Redemption</td>\n",
       "      <td>1994</td>\n",
       "      <td>A</td>\n",
       "      <td>142 min</td>\n",
       "      <td>Drama</td>\n",
       "      <td>9.3</td>\n",
       "      <td>Two imprisoned men bond over a number of years...</td>\n",
       "      <td>80.0</td>\n",
       "      <td>Frank Darabont</td>\n",
       "      <td>Tim Robbins</td>\n",
       "      <td>Morgan Freeman</td>\n",
       "      <td>Bob Gunton</td>\n",
       "      <td>William Sadler</td>\n",
       "      <td>2343110</td>\n",
       "      <td>28,341,469</td>\n",
       "      <td>Tim Robbins, Morgan Freeman, Bob Gunton, Willi...</td>\n",
       "    </tr>\n",
       "    <tr>\n",
       "      <th>1</th>\n",
       "      <td>https://m.media-amazon.com/images/M/MV5BM2MyNj...</td>\n",
       "      <td>The Godfather</td>\n",
       "      <td>1972</td>\n",
       "      <td>A</td>\n",
       "      <td>175 min</td>\n",
       "      <td>Crime, Drama</td>\n",
       "      <td>9.2</td>\n",
       "      <td>An organized crime dynasty's aging patriarch t...</td>\n",
       "      <td>100.0</td>\n",
       "      <td>Francis Ford Coppola</td>\n",
       "      <td>Marlon Brando</td>\n",
       "      <td>Al Pacino</td>\n",
       "      <td>James Caan</td>\n",
       "      <td>Diane Keaton</td>\n",
       "      <td>1620367</td>\n",
       "      <td>134,966,411</td>\n",
       "      <td>Marlon Brando, Al Pacino, James Caan, Diane Ke...</td>\n",
       "    </tr>\n",
       "    <tr>\n",
       "      <th>2</th>\n",
       "      <td>https://m.media-amazon.com/images/M/MV5BMTMxNT...</td>\n",
       "      <td>The Dark Knight</td>\n",
       "      <td>2008</td>\n",
       "      <td>UA</td>\n",
       "      <td>152 min</td>\n",
       "      <td>Action, Crime, Drama</td>\n",
       "      <td>9.0</td>\n",
       "      <td>When the menace known as the Joker wreaks havo...</td>\n",
       "      <td>84.0</td>\n",
       "      <td>Christopher Nolan</td>\n",
       "      <td>Christian Bale</td>\n",
       "      <td>Heath Ledger</td>\n",
       "      <td>Aaron Eckhart</td>\n",
       "      <td>Michael Caine</td>\n",
       "      <td>2303232</td>\n",
       "      <td>534,858,444</td>\n",
       "      <td>Christian Bale, Heath Ledger, Aaron Eckhart, M...</td>\n",
       "    </tr>\n",
       "    <tr>\n",
       "      <th>3</th>\n",
       "      <td>https://m.media-amazon.com/images/M/MV5BMWMwMG...</td>\n",
       "      <td>The Godfather: Part II</td>\n",
       "      <td>1974</td>\n",
       "      <td>A</td>\n",
       "      <td>202 min</td>\n",
       "      <td>Crime, Drama</td>\n",
       "      <td>9.0</td>\n",
       "      <td>The early life and career of Vito Corleone in ...</td>\n",
       "      <td>90.0</td>\n",
       "      <td>Francis Ford Coppola</td>\n",
       "      <td>Al Pacino</td>\n",
       "      <td>Robert De Niro</td>\n",
       "      <td>Robert Duvall</td>\n",
       "      <td>Diane Keaton</td>\n",
       "      <td>1129952</td>\n",
       "      <td>57,300,000</td>\n",
       "      <td>Al Pacino, Robert De Niro, Robert Duvall, Dian...</td>\n",
       "    </tr>\n",
       "    <tr>\n",
       "      <th>4</th>\n",
       "      <td>https://m.media-amazon.com/images/M/MV5BMWU4N2...</td>\n",
       "      <td>12 Angry Men</td>\n",
       "      <td>1957</td>\n",
       "      <td>U</td>\n",
       "      <td>96 min</td>\n",
       "      <td>Crime, Drama</td>\n",
       "      <td>9.0</td>\n",
       "      <td>A jury holdout attempts to prevent a miscarria...</td>\n",
       "      <td>96.0</td>\n",
       "      <td>Sidney Lumet</td>\n",
       "      <td>Henry Fonda</td>\n",
       "      <td>Lee J. Cobb</td>\n",
       "      <td>Martin Balsam</td>\n",
       "      <td>John Fiedler</td>\n",
       "      <td>689845</td>\n",
       "      <td>4,360,000</td>\n",
       "      <td>Henry Fonda, Lee J. Cobb, Martin Balsam, John ...</td>\n",
       "    </tr>\n",
       "  </tbody>\n",
       "</table>\n",
       "</div>"
      ],
      "text/plain": [
       "                                         Poster_Link  \\\n",
       "0  https://m.media-amazon.com/images/M/MV5BMDFkYT...   \n",
       "1  https://m.media-amazon.com/images/M/MV5BM2MyNj...   \n",
       "2  https://m.media-amazon.com/images/M/MV5BMTMxNT...   \n",
       "3  https://m.media-amazon.com/images/M/MV5BMWMwMG...   \n",
       "4  https://m.media-amazon.com/images/M/MV5BMWU4N2...   \n",
       "\n",
       "                 Movie_Name Released_Year Certificate  Runtime  \\\n",
       "0  The Shawshank Redemption          1994           A  142 min   \n",
       "1             The Godfather          1972           A  175 min   \n",
       "2           The Dark Knight          2008          UA  152 min   \n",
       "3    The Godfather: Part II          1974           A  202 min   \n",
       "4              12 Angry Men          1957           U   96 min   \n",
       "\n",
       "                  Genre  IMDB_Rating  \\\n",
       "0                 Drama          9.3   \n",
       "1          Crime, Drama          9.2   \n",
       "2  Action, Crime, Drama          9.0   \n",
       "3          Crime, Drama          9.0   \n",
       "4          Crime, Drama          9.0   \n",
       "\n",
       "                                            Overview  Meta_score  \\\n",
       "0  Two imprisoned men bond over a number of years...        80.0   \n",
       "1  An organized crime dynasty's aging patriarch t...       100.0   \n",
       "2  When the menace known as the Joker wreaks havo...        84.0   \n",
       "3  The early life and career of Vito Corleone in ...        90.0   \n",
       "4  A jury holdout attempts to prevent a miscarria...        96.0   \n",
       "\n",
       "               Director           Star1           Star2          Star3  \\\n",
       "0        Frank Darabont     Tim Robbins  Morgan Freeman     Bob Gunton   \n",
       "1  Francis Ford Coppola   Marlon Brando       Al Pacino     James Caan   \n",
       "2     Christopher Nolan  Christian Bale    Heath Ledger  Aaron Eckhart   \n",
       "3  Francis Ford Coppola       Al Pacino  Robert De Niro  Robert Duvall   \n",
       "4          Sidney Lumet     Henry Fonda     Lee J. Cobb  Martin Balsam   \n",
       "\n",
       "            Star4  No_of_Votes        Gross  \\\n",
       "0  William Sadler      2343110   28,341,469   \n",
       "1    Diane Keaton      1620367  134,966,411   \n",
       "2   Michael Caine      2303232  534,858,444   \n",
       "3    Diane Keaton      1129952   57,300,000   \n",
       "4    John Fiedler       689845    4,360,000   \n",
       "\n",
       "                                           Star_Cast  \n",
       "0  Tim Robbins, Morgan Freeman, Bob Gunton, Willi...  \n",
       "1  Marlon Brando, Al Pacino, James Caan, Diane Ke...  \n",
       "2  Christian Bale, Heath Ledger, Aaron Eckhart, M...  \n",
       "3  Al Pacino, Robert De Niro, Robert Duvall, Dian...  \n",
       "4  Henry Fonda, Lee J. Cobb, Martin Balsam, John ...  "
      ]
     },
     "execution_count": 10,
     "metadata": {},
     "output_type": "execute_result"
    }
   ],
   "source": [
    "df2.head()"
   ]
  },
  {
   "cell_type": "code",
   "execution_count": 11,
   "id": "6e73d176",
   "metadata": {
    "execution": {
     "iopub.execute_input": "2022-05-21T10:16:10.824958Z",
     "iopub.status.busy": "2022-05-21T10:16:10.824489Z",
     "iopub.status.idle": "2022-05-21T10:16:10.832496Z",
     "shell.execute_reply": "2022-05-21T10:16:10.831735Z"
    },
    "papermill": {
     "duration": 0.039852,
     "end_time": "2022-05-21T10:16:10.834950",
     "exception": false,
     "start_time": "2022-05-21T10:16:10.795098",
     "status": "completed"
    },
    "tags": []
   },
   "outputs": [],
   "source": [
    "df2['Gross']=df2['Gross'].str.replace(',','')\n",
    "df2['Gross'] = df2['Gross'].replace(np.nan, 0)\n",
    "df2['Gross'] = df2['Gross'].astype(int)"
   ]
  },
  {
   "cell_type": "code",
   "execution_count": 12,
   "id": "4666844a",
   "metadata": {
    "execution": {
     "iopub.execute_input": "2022-05-21T10:16:10.895606Z",
     "iopub.status.busy": "2022-05-21T10:16:10.895277Z",
     "iopub.status.idle": "2022-05-21T10:16:10.919067Z",
     "shell.execute_reply": "2022-05-21T10:16:10.918369Z"
    },
    "papermill": {
     "duration": 0.057379,
     "end_time": "2022-05-21T10:16:10.921115",
     "exception": false,
     "start_time": "2022-05-21T10:16:10.863736",
     "status": "completed"
    },
    "tags": []
   },
   "outputs": [
    {
     "data": {
      "text/html": [
       "<div>\n",
       "<style scoped>\n",
       "    .dataframe tbody tr th:only-of-type {\n",
       "        vertical-align: middle;\n",
       "    }\n",
       "\n",
       "    .dataframe tbody tr th {\n",
       "        vertical-align: top;\n",
       "    }\n",
       "\n",
       "    .dataframe thead th {\n",
       "        text-align: right;\n",
       "    }\n",
       "</style>\n",
       "<table border=\"1\" class=\"dataframe\">\n",
       "  <thead>\n",
       "    <tr style=\"text-align: right;\">\n",
       "      <th></th>\n",
       "      <th>Poster_Link</th>\n",
       "      <th>Movie_Name</th>\n",
       "      <th>Released_Year</th>\n",
       "      <th>Certificate</th>\n",
       "      <th>Runtime</th>\n",
       "      <th>Genre</th>\n",
       "      <th>IMDB_Rating</th>\n",
       "      <th>Overview</th>\n",
       "      <th>Meta_score</th>\n",
       "      <th>Director</th>\n",
       "      <th>Star1</th>\n",
       "      <th>Star2</th>\n",
       "      <th>Star3</th>\n",
       "      <th>Star4</th>\n",
       "      <th>No_of_Votes</th>\n",
       "      <th>Gross</th>\n",
       "      <th>Star_Cast</th>\n",
       "    </tr>\n",
       "  </thead>\n",
       "  <tbody>\n",
       "    <tr>\n",
       "      <th>0</th>\n",
       "      <td>https://m.media-amazon.com/images/M/MV5BMDFkYT...</td>\n",
       "      <td>The Shawshank Redemption</td>\n",
       "      <td>1994</td>\n",
       "      <td>A</td>\n",
       "      <td>142 min</td>\n",
       "      <td>Drama</td>\n",
       "      <td>9.3</td>\n",
       "      <td>Two imprisoned men bond over a number of years...</td>\n",
       "      <td>80.0</td>\n",
       "      <td>Frank Darabont</td>\n",
       "      <td>Tim Robbins</td>\n",
       "      <td>Morgan Freeman</td>\n",
       "      <td>Bob Gunton</td>\n",
       "      <td>William Sadler</td>\n",
       "      <td>2343110</td>\n",
       "      <td>28341469</td>\n",
       "      <td>Tim Robbins, Morgan Freeman, Bob Gunton, Willi...</td>\n",
       "    </tr>\n",
       "    <tr>\n",
       "      <th>1</th>\n",
       "      <td>https://m.media-amazon.com/images/M/MV5BM2MyNj...</td>\n",
       "      <td>The Godfather</td>\n",
       "      <td>1972</td>\n",
       "      <td>A</td>\n",
       "      <td>175 min</td>\n",
       "      <td>Crime, Drama</td>\n",
       "      <td>9.2</td>\n",
       "      <td>An organized crime dynasty's aging patriarch t...</td>\n",
       "      <td>100.0</td>\n",
       "      <td>Francis Ford Coppola</td>\n",
       "      <td>Marlon Brando</td>\n",
       "      <td>Al Pacino</td>\n",
       "      <td>James Caan</td>\n",
       "      <td>Diane Keaton</td>\n",
       "      <td>1620367</td>\n",
       "      <td>134966411</td>\n",
       "      <td>Marlon Brando, Al Pacino, James Caan, Diane Ke...</td>\n",
       "    </tr>\n",
       "    <tr>\n",
       "      <th>2</th>\n",
       "      <td>https://m.media-amazon.com/images/M/MV5BMTMxNT...</td>\n",
       "      <td>The Dark Knight</td>\n",
       "      <td>2008</td>\n",
       "      <td>UA</td>\n",
       "      <td>152 min</td>\n",
       "      <td>Action, Crime, Drama</td>\n",
       "      <td>9.0</td>\n",
       "      <td>When the menace known as the Joker wreaks havo...</td>\n",
       "      <td>84.0</td>\n",
       "      <td>Christopher Nolan</td>\n",
       "      <td>Christian Bale</td>\n",
       "      <td>Heath Ledger</td>\n",
       "      <td>Aaron Eckhart</td>\n",
       "      <td>Michael Caine</td>\n",
       "      <td>2303232</td>\n",
       "      <td>534858444</td>\n",
       "      <td>Christian Bale, Heath Ledger, Aaron Eckhart, M...</td>\n",
       "    </tr>\n",
       "    <tr>\n",
       "      <th>3</th>\n",
       "      <td>https://m.media-amazon.com/images/M/MV5BMWMwMG...</td>\n",
       "      <td>The Godfather: Part II</td>\n",
       "      <td>1974</td>\n",
       "      <td>A</td>\n",
       "      <td>202 min</td>\n",
       "      <td>Crime, Drama</td>\n",
       "      <td>9.0</td>\n",
       "      <td>The early life and career of Vito Corleone in ...</td>\n",
       "      <td>90.0</td>\n",
       "      <td>Francis Ford Coppola</td>\n",
       "      <td>Al Pacino</td>\n",
       "      <td>Robert De Niro</td>\n",
       "      <td>Robert Duvall</td>\n",
       "      <td>Diane Keaton</td>\n",
       "      <td>1129952</td>\n",
       "      <td>57300000</td>\n",
       "      <td>Al Pacino, Robert De Niro, Robert Duvall, Dian...</td>\n",
       "    </tr>\n",
       "    <tr>\n",
       "      <th>4</th>\n",
       "      <td>https://m.media-amazon.com/images/M/MV5BMWU4N2...</td>\n",
       "      <td>12 Angry Men</td>\n",
       "      <td>1957</td>\n",
       "      <td>U</td>\n",
       "      <td>96 min</td>\n",
       "      <td>Crime, Drama</td>\n",
       "      <td>9.0</td>\n",
       "      <td>A jury holdout attempts to prevent a miscarria...</td>\n",
       "      <td>96.0</td>\n",
       "      <td>Sidney Lumet</td>\n",
       "      <td>Henry Fonda</td>\n",
       "      <td>Lee J. Cobb</td>\n",
       "      <td>Martin Balsam</td>\n",
       "      <td>John Fiedler</td>\n",
       "      <td>689845</td>\n",
       "      <td>4360000</td>\n",
       "      <td>Henry Fonda, Lee J. Cobb, Martin Balsam, John ...</td>\n",
       "    </tr>\n",
       "  </tbody>\n",
       "</table>\n",
       "</div>"
      ],
      "text/plain": [
       "                                         Poster_Link  \\\n",
       "0  https://m.media-amazon.com/images/M/MV5BMDFkYT...   \n",
       "1  https://m.media-amazon.com/images/M/MV5BM2MyNj...   \n",
       "2  https://m.media-amazon.com/images/M/MV5BMTMxNT...   \n",
       "3  https://m.media-amazon.com/images/M/MV5BMWMwMG...   \n",
       "4  https://m.media-amazon.com/images/M/MV5BMWU4N2...   \n",
       "\n",
       "                 Movie_Name Released_Year Certificate  Runtime  \\\n",
       "0  The Shawshank Redemption          1994           A  142 min   \n",
       "1             The Godfather          1972           A  175 min   \n",
       "2           The Dark Knight          2008          UA  152 min   \n",
       "3    The Godfather: Part II          1974           A  202 min   \n",
       "4              12 Angry Men          1957           U   96 min   \n",
       "\n",
       "                  Genre  IMDB_Rating  \\\n",
       "0                 Drama          9.3   \n",
       "1          Crime, Drama          9.2   \n",
       "2  Action, Crime, Drama          9.0   \n",
       "3          Crime, Drama          9.0   \n",
       "4          Crime, Drama          9.0   \n",
       "\n",
       "                                            Overview  Meta_score  \\\n",
       "0  Two imprisoned men bond over a number of years...        80.0   \n",
       "1  An organized crime dynasty's aging patriarch t...       100.0   \n",
       "2  When the menace known as the Joker wreaks havo...        84.0   \n",
       "3  The early life and career of Vito Corleone in ...        90.0   \n",
       "4  A jury holdout attempts to prevent a miscarria...        96.0   \n",
       "\n",
       "               Director           Star1           Star2          Star3  \\\n",
       "0        Frank Darabont     Tim Robbins  Morgan Freeman     Bob Gunton   \n",
       "1  Francis Ford Coppola   Marlon Brando       Al Pacino     James Caan   \n",
       "2     Christopher Nolan  Christian Bale    Heath Ledger  Aaron Eckhart   \n",
       "3  Francis Ford Coppola       Al Pacino  Robert De Niro  Robert Duvall   \n",
       "4          Sidney Lumet     Henry Fonda     Lee J. Cobb  Martin Balsam   \n",
       "\n",
       "            Star4  No_of_Votes      Gross  \\\n",
       "0  William Sadler      2343110   28341469   \n",
       "1    Diane Keaton      1620367  134966411   \n",
       "2   Michael Caine      2303232  534858444   \n",
       "3    Diane Keaton      1129952   57300000   \n",
       "4    John Fiedler       689845    4360000   \n",
       "\n",
       "                                           Star_Cast  \n",
       "0  Tim Robbins, Morgan Freeman, Bob Gunton, Willi...  \n",
       "1  Marlon Brando, Al Pacino, James Caan, Diane Ke...  \n",
       "2  Christian Bale, Heath Ledger, Aaron Eckhart, M...  \n",
       "3  Al Pacino, Robert De Niro, Robert Duvall, Dian...  \n",
       "4  Henry Fonda, Lee J. Cobb, Martin Balsam, John ...  "
      ]
     },
     "execution_count": 12,
     "metadata": {},
     "output_type": "execute_result"
    }
   ],
   "source": [
    "df2.head()"
   ]
  },
  {
   "cell_type": "code",
   "execution_count": 13,
   "id": "d0233b91",
   "metadata": {
    "execution": {
     "iopub.execute_input": "2022-05-21T10:16:10.980132Z",
     "iopub.status.busy": "2022-05-21T10:16:10.979599Z",
     "iopub.status.idle": "2022-05-21T10:16:10.993021Z",
     "shell.execute_reply": "2022-05-21T10:16:10.992027Z"
    },
    "papermill": {
     "duration": 0.045908,
     "end_time": "2022-05-21T10:16:10.995385",
     "exception": false,
     "start_time": "2022-05-21T10:16:10.949477",
     "status": "completed"
    },
    "tags": []
   },
   "outputs": [
    {
     "data": {
      "text/html": [
       "<div>\n",
       "<style scoped>\n",
       "    .dataframe tbody tr th:only-of-type {\n",
       "        vertical-align: middle;\n",
       "    }\n",
       "\n",
       "    .dataframe tbody tr th {\n",
       "        vertical-align: top;\n",
       "    }\n",
       "\n",
       "    .dataframe thead th {\n",
       "        text-align: right;\n",
       "    }\n",
       "</style>\n",
       "<table border=\"1\" class=\"dataframe\">\n",
       "  <thead>\n",
       "    <tr style=\"text-align: right;\">\n",
       "      <th></th>\n",
       "      <th>Movie_Name</th>\n",
       "      <th>Gross</th>\n",
       "    </tr>\n",
       "  </thead>\n",
       "  <tbody>\n",
       "    <tr>\n",
       "      <th>477</th>\n",
       "      <td>Star Wars: Episode VII - The Force Awakens</td>\n",
       "      <td>936662225</td>\n",
       "    </tr>\n",
       "    <tr>\n",
       "      <th>59</th>\n",
       "      <td>Avengers: Endgame</td>\n",
       "      <td>858373000</td>\n",
       "    </tr>\n",
       "    <tr>\n",
       "      <th>623</th>\n",
       "      <td>Avatar</td>\n",
       "      <td>760507625</td>\n",
       "    </tr>\n",
       "    <tr>\n",
       "      <th>60</th>\n",
       "      <td>Avengers: Infinity War</td>\n",
       "      <td>678815482</td>\n",
       "    </tr>\n",
       "    <tr>\n",
       "      <th>652</th>\n",
       "      <td>Titanic</td>\n",
       "      <td>659325379</td>\n",
       "    </tr>\n",
       "    <tr>\n",
       "      <th>357</th>\n",
       "      <td>The Avengers</td>\n",
       "      <td>623279547</td>\n",
       "    </tr>\n",
       "    <tr>\n",
       "      <th>891</th>\n",
       "      <td>Incredibles 2</td>\n",
       "      <td>608581744</td>\n",
       "    </tr>\n",
       "    <tr>\n",
       "      <th>2</th>\n",
       "      <td>The Dark Knight</td>\n",
       "      <td>534858444</td>\n",
       "    </tr>\n",
       "    <tr>\n",
       "      <th>582</th>\n",
       "      <td>Rogue One</td>\n",
       "      <td>532177324</td>\n",
       "    </tr>\n",
       "    <tr>\n",
       "      <th>63</th>\n",
       "      <td>The Dark Knight Rises</td>\n",
       "      <td>448139099</td>\n",
       "    </tr>\n",
       "  </tbody>\n",
       "</table>\n",
       "</div>"
      ],
      "text/plain": [
       "                                     Movie_Name      Gross\n",
       "477  Star Wars: Episode VII - The Force Awakens  936662225\n",
       "59                            Avengers: Endgame  858373000\n",
       "623                                      Avatar  760507625\n",
       "60                       Avengers: Infinity War  678815482\n",
       "652                                     Titanic  659325379\n",
       "357                                The Avengers  623279547\n",
       "891                               Incredibles 2  608581744\n",
       "2                               The Dark Knight  534858444\n",
       "582                                   Rogue One  532177324\n",
       "63                        The Dark Knight Rises  448139099"
      ]
     },
     "execution_count": 13,
     "metadata": {},
     "output_type": "execute_result"
    }
   ],
   "source": [
    "top_gross = df2.sort_values(['Gross'], ascending = False)\n",
    "top_gross = top_gross[['Movie_Name','Gross']]\n",
    "top_gross.head(10)"
   ]
  },
  {
   "cell_type": "code",
   "execution_count": 14,
   "id": "55107f18",
   "metadata": {
    "execution": {
     "iopub.execute_input": "2022-05-21T10:16:11.057879Z",
     "iopub.status.busy": "2022-05-21T10:16:11.057579Z",
     "iopub.status.idle": "2022-05-21T10:16:11.287251Z",
     "shell.execute_reply": "2022-05-21T10:16:11.286514Z"
    },
    "papermill": {
     "duration": 0.263937,
     "end_time": "2022-05-21T10:16:11.289648",
     "exception": false,
     "start_time": "2022-05-21T10:16:11.025711",
     "status": "completed"
    },
    "tags": []
   },
   "outputs": [
    {
     "data": {
      "image/png": "[encoded data removed]",
      "text/plain": [
       "<Figure size 432x288 with 1 Axes>"
      ]
     },
     "metadata": {
      "needs_background": "light"
     },
     "output_type": "display_data"
    }
   ],
   "source": [
    "x=top_gross.head(10)['Movie_Name']\n",
    "y=top_gross.head(10)['Gross']\n",
    "plt.xlabel('Gross in 100 Million Dollars (USA)')\n",
    "plt.barh(x, y, color = \"hotpink\")\n",
    "plt.show()"
   ]
  },
  {
   "cell_type": "code",
   "execution_count": 15,
   "id": "3616b8df",
   "metadata": {
    "execution": {
     "iopub.execute_input": "2022-05-21T10:16:11.352354Z",
     "iopub.status.busy": "2022-05-21T10:16:11.351775Z",
     "iopub.status.idle": "2022-05-21T10:16:11.559626Z",
     "shell.execute_reply": "2022-05-21T10:16:11.558436Z"
    },
    "papermill": {
     "duration": 0.243165,
     "end_time": "2022-05-21T10:16:11.563299",
     "exception": false,
     "start_time": "2022-05-21T10:16:11.320134",
     "status": "completed"
    },
    "tags": []
   },
   "outputs": [
    {
     "data": {
      "image/png": "[encoded data removed]",
      "text/plain": [
       "<Figure size 432x288 with 1 Axes>"
      ]
     },
     "metadata": {},
     "output_type": "display_data"
    }
   ],
   "source": [
    "z = top_gross.head(10)['Gross']\n",
    "mylabels = top_gross.head(10)['Movie_Name']\n",
    "\n",
    "plt.pie(y, labels = mylabels)\n",
    "plt.show() "
   ]
  },
  {
   "cell_type": "markdown",
   "id": "757858cd",
   "metadata": {
    "papermill": {
     "duration": 0.031676,
     "end_time": "2022-05-21T10:16:11.647035",
     "exception": false,
     "start_time": "2022-05-21T10:16:11.615359",
     "status": "completed"
    },
    "tags": []
   },
   "source": [
    "### Star Wars : Episode VII - The Force Awakens earned the largest among the top 10 box office grossers."
   ]
  },
  {
   "cell_type": "markdown",
   "id": "1b8e4fcd",
   "metadata": {
    "papermill": {
     "duration": 0.031184,
     "end_time": "2022-05-21T10:16:11.709631",
     "exception": false,
     "start_time": "2022-05-21T10:16:11.678447",
     "status": "completed"
    },
    "tags": []
   },
   "source": [
    "### Avengers Endgame being world highest grossers, has ranked 2nd in top 10 US Box office grossers."
   ]
  },
  {
   "cell_type": "code",
   "execution_count": 16,
   "id": "7c3f2173",
   "metadata": {
    "execution": {
     "iopub.execute_input": "2022-05-21T10:16:11.775038Z",
     "iopub.status.busy": "2022-05-21T10:16:11.774594Z",
     "iopub.status.idle": "2022-05-21T10:16:11.791465Z",
     "shell.execute_reply": "2022-05-21T10:16:11.790560Z"
    },
    "papermill": {
     "duration": 0.052789,
     "end_time": "2022-05-21T10:16:11.793825",
     "exception": false,
     "start_time": "2022-05-21T10:16:11.741036",
     "status": "completed"
    },
    "tags": []
   },
   "outputs": [
    {
     "data": {
      "text/html": [
       "<div>\n",
       "<style scoped>\n",
       "    .dataframe tbody tr th:only-of-type {\n",
       "        vertical-align: middle;\n",
       "    }\n",
       "\n",
       "    .dataframe tbody tr th {\n",
       "        vertical-align: top;\n",
       "    }\n",
       "\n",
       "    .dataframe thead th {\n",
       "        text-align: right;\n",
       "    }\n",
       "</style>\n",
       "<table border=\"1\" class=\"dataframe\">\n",
       "  <thead>\n",
       "    <tr style=\"text-align: right;\">\n",
       "      <th></th>\n",
       "      <th>Movie_Name</th>\n",
       "      <th>IMDB_Rating</th>\n",
       "      <th>Meta_score</th>\n",
       "    </tr>\n",
       "  </thead>\n",
       "  <tbody>\n",
       "    <tr>\n",
       "      <th>0</th>\n",
       "      <td>The Shawshank Redemption</td>\n",
       "      <td>9.3</td>\n",
       "      <td>80.0</td>\n",
       "    </tr>\n",
       "    <tr>\n",
       "      <th>1</th>\n",
       "      <td>The Godfather</td>\n",
       "      <td>9.2</td>\n",
       "      <td>100.0</td>\n",
       "    </tr>\n",
       "    <tr>\n",
       "      <th>2</th>\n",
       "      <td>The Dark Knight</td>\n",
       "      <td>9.0</td>\n",
       "      <td>84.0</td>\n",
       "    </tr>\n",
       "    <tr>\n",
       "      <th>3</th>\n",
       "      <td>The Godfather: Part II</td>\n",
       "      <td>9.0</td>\n",
       "      <td>90.0</td>\n",
       "    </tr>\n",
       "    <tr>\n",
       "      <th>4</th>\n",
       "      <td>12 Angry Men</td>\n",
       "      <td>9.0</td>\n",
       "      <td>96.0</td>\n",
       "    </tr>\n",
       "    <tr>\n",
       "      <th>5</th>\n",
       "      <td>The Lord of the Rings: The Return of the King</td>\n",
       "      <td>8.9</td>\n",
       "      <td>94.0</td>\n",
       "    </tr>\n",
       "    <tr>\n",
       "      <th>6</th>\n",
       "      <td>Pulp Fiction</td>\n",
       "      <td>8.9</td>\n",
       "      <td>94.0</td>\n",
       "    </tr>\n",
       "    <tr>\n",
       "      <th>7</th>\n",
       "      <td>Schindler's List</td>\n",
       "      <td>8.9</td>\n",
       "      <td>94.0</td>\n",
       "    </tr>\n",
       "    <tr>\n",
       "      <th>10</th>\n",
       "      <td>The Lord of the Rings: The Fellowship of the Ring</td>\n",
       "      <td>8.8</td>\n",
       "      <td>92.0</td>\n",
       "    </tr>\n",
       "    <tr>\n",
       "      <th>11</th>\n",
       "      <td>Forrest Gump</td>\n",
       "      <td>8.8</td>\n",
       "      <td>82.0</td>\n",
       "    </tr>\n",
       "  </tbody>\n",
       "</table>\n",
       "</div>"
      ],
      "text/plain": [
       "                                           Movie_Name  IMDB_Rating  Meta_score\n",
       "0                            The Shawshank Redemption          9.3        80.0\n",
       "1                                       The Godfather          9.2       100.0\n",
       "2                                     The Dark Knight          9.0        84.0\n",
       "3                              The Godfather: Part II          9.0        90.0\n",
       "4                                        12 Angry Men          9.0        96.0\n",
       "5       The Lord of the Rings: The Return of the King          8.9        94.0\n",
       "6                                        Pulp Fiction          8.9        94.0\n",
       "7                                    Schindler's List          8.9        94.0\n",
       "10  The Lord of the Rings: The Fellowship of the Ring          8.8        92.0\n",
       "11                                       Forrest Gump          8.8        82.0"
      ]
     },
     "execution_count": 16,
     "metadata": {},
     "output_type": "execute_result"
    }
   ],
   "source": [
    "top_voted = df2.sort_values(['IMDB_Rating'], ascending = False)\n",
    "top_voted = top_voted[['Movie_Name','IMDB_Rating','Meta_score']]\n",
    "top_voted.head(10)"
   ]
  },
  {
   "cell_type": "code",
   "execution_count": 17,
   "id": "63e240e1",
   "metadata": {
    "execution": {
     "iopub.execute_input": "2022-05-21T10:16:11.861321Z",
     "iopub.status.busy": "2022-05-21T10:16:11.860473Z",
     "iopub.status.idle": "2022-05-21T10:16:12.099231Z",
     "shell.execute_reply": "2022-05-21T10:16:12.098053Z"
    },
    "papermill": {
     "duration": 0.27509,
     "end_time": "2022-05-21T10:16:12.101828",
     "exception": false,
     "start_time": "2022-05-21T10:16:11.826738",
     "status": "completed"
    },
    "tags": []
   },
   "outputs": [
    {
     "data": {
      "image/png": "[encoded data removed]",
      "text/plain": [
       "<Figure size 432x288 with 1 Axes>"
      ]
     },
     "metadata": {
      "needs_background": "light"
     },
     "output_type": "display_data"
    }
   ],
   "source": [
    "z = top_voted.head(10)['IMDB_Rating']\n",
    "mylabels = top_voted.head(10)['Movie_Name']\n",
    "\n",
    "plt.title(\"Top 10 Voted Movies\")\n",
    "plt.plot(z, mylabels, linestyle='dotted', color='red', linewidth = '10.5')\n",
    "plt.show() "
   ]
  },
  {
   "cell_type": "code",
   "execution_count": 18,
   "id": "1227b95e",
   "metadata": {
    "execution": {
     "iopub.execute_input": "2022-05-21T10:16:12.171964Z",
     "iopub.status.busy": "2022-05-21T10:16:12.171636Z",
     "iopub.status.idle": "2022-05-21T10:16:12.427852Z",
     "shell.execute_reply": "2022-05-21T10:16:12.427074Z"
    },
    "papermill": {
     "duration": 0.294531,
     "end_time": "2022-05-21T10:16:12.430139",
     "exception": false,
     "start_time": "2022-05-21T10:16:12.135608",
     "status": "completed"
    },
    "tags": []
   },
   "outputs": [
    {
     "data": {
      "image/png": "[encoded data removed]",
      "text/plain": [
       "<Figure size 432x288 with 1 Axes>"
      ]
     },
     "metadata": {
      "needs_background": "light"
     },
     "output_type": "display_data"
    }
   ],
   "source": [
    "f = top_voted.head(10)['Meta_score']\n",
    "mylabels = top_voted.head(10)['Movie_Name']\n",
    "\n",
    "plt.title(\"Top 10 Positive Rated Movies (Rotten Tomatoes)\")\n",
    "plt.plot(f, mylabels, color='blue', linewidth = '10.5')\n",
    "plt.show() "
   ]
  },
  {
   "cell_type": "code",
   "execution_count": null,
   "id": "e75f8e75",
   "metadata": {
    "papermill": {
     "duration": 0.034888,
     "end_time": "2022-05-21T10:16:12.499604",
     "exception": false,
     "start_time": "2022-05-21T10:16:12.464716",
     "status": "completed"
    },
    "tags": []
   },
   "outputs": [],
   "source": []
  }
 ],
 "metadata": {
  "kernelspec": {
   "display_name": "Python 3",
   "language": "python",
   "name": "python3"
  },
  "language_info": {
   "codemirror_mode": {
    "name": "ipython",
    "version": 3
   },
   "file_extension": ".py",
   "mimetype": "text/x-python",
   "name": "python",
   "nbconvert_exporter": "python",
   "pygments_lexer": "ipython3",
   "version": "3.7.12"
  },
  "papermill": {
   "default_parameters": {},
   "duration": 15.029919,
   "end_time": "2022-05-21T10:16:13.254232",
   "environment_variables": {},
   "exception": null,
   "input_path": "__notebook__.ipynb",
   "output_path": "__notebook__.ipynb",
   "parameters": {},
   "start_time": "2022-05-21T10:15:58.224313",
   "version": "2.3.4"
  }
 },
 "nbformat": 4,
 "nbformat_minor": 5
}
